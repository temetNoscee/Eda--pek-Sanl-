{
 "cells": [
  {
   "cell_type": "markdown",
   "metadata": {},
   "source": [
    "\n",
    "ConvNet olarak da bilinen Evrişimsel Sinir Ağı (CNN), esas olarak görüntü sınıflandırma, algılama ve segmentasyon dahil olmak üzere nesne tanımayı gerektiren görevler için tasarlanmış özel bir derin öğrenme algoritması türüdür. CNN'ler otonom araçlar, güvenlik kamera sistemleri ve diğerleri gibi çeşitli pratik senaryolarda kullanılır.<br>\n",
    "Convolutional Neural Network, giriş katmanı, convolution katmanı, pooling katmanı ve fully connected katmanlar gibi birden fazla katmandan oluşur. <br>\n",
    "<b> Convolution Layer </b> <br>\n",
    "Convolution layer, bir CNN'nin temel yapı taşıdır ve hesaplamanın çoğunluğunun gerçekleştiği yerdir. Giriş verileri, filtre ve özellik haritası gibi birkaç bileşen gerektirir. Girişin 3 boyutlu piksel matrisinden oluşan renkli bir görüntü olacağını varsayalım. Bu, girdinin görüntüdeki RGB'ye karşılık gelen üç boyuta (yükseklik, genişlik ve derinlik) sahip olacağı anlamına gelir. Ayrıca, kernel veya filtre olarak da bilinen, görüntünün alıcı alanları boyunca hareket ederek özelliğin mevcut olup olmadığını kontrol edecek bir özellik detektörümüz de var. Bu süreç convolution olarak bilinir. <br>\n",
    "\n",
    "<b> Pooling Layer </b> <br>\n",
    "Downsampling olarak da bilinen havuzlama katmanları, girişteki parametre sayısını azaltarak boyutluluk azaltma işlemini gerçekleştirir. Evrişim katmanına benzer şekilde, havuzlama işlemi, girişin tamamı boyunca bir filtreyi tarar, ancak fark, bu filtrenin herhangi bir ağırlığa sahip olmamasıdır. Bunun yerine çekirdek, alıcı alandaki değerlere bir toplama işlevi uygulayarak çıktı dizisini doldurur. İki ana pooling türü vardır. Maksimum havuzlama, filtre giriş boyunca hareket ettikçe, çıkış dizisine gönderilecek maksimum değere sahip pikseli seçer. Bir yana, bu yaklaşım ortalama havuzlamaya kıyasla daha sık kullanılma eğilimindedir. Ortalama havuzlama, filtre giriş boyunca hareket ettikçe, çıkış dizisine gönderilecek alıcı alan içindeki ortalama değeri hesaplar. <br>\n",
    "Havuzlama katmanında çok fazla bilgi kaybolurken, bunun CNN'e de birçok faydası vardır. Karmaşıklığın azaltılmasına, verimliliğin artırılmasına ve aşırı uyum riskinin sınırlandırılmasına yardımcı olurlar.<br>\n",
    "\n",
    "<b> Fully Connected Layer </b> <br>\n",
    "tam bağlantılı katmanda, çıktı katmanındaki her düğüm, bir önceki katmandaki bir düğüme doğrudan bağlanır. Bu katman, önceki katmanlardan elde edilen özelliklere ve bunların farklı filtrelerine göre sınıflandırma görevini gerçekleştirir. Convolution ve pooling katmanları ReLu işlevlerini kullanma eğilimindeyken, FC katmanları genellikle girdileri uygun şekilde sınıflandırmak için bir softmax aktivasyon işlevinden yararlanır ve 0'dan 1'e kadar bir olasılık üretir.\n",
    "​"
   ]
  }
 ],
 "metadata": {
  "language_info": {
   "name": "python"
  }
 },
 "nbformat": 4,
 "nbformat_minor": 2
}
