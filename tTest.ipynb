{
 "cells": [
  {
   "cell_type": "markdown",
   "metadata": {},
   "source": [
    "Eda İpek Sanlı 20040101006 Bilgisayar Mühendisliği"
   ]
  },
  {
   "cell_type": "markdown",
   "metadata": {},
   "source": [
    "T testi, iki grubun ortalamaları arasında anlamlı bir fark olup olmadığını ve bunların nasıl ilişkili olduğunu belirlemek için kullanılan çıkarımsal bir istatistiktir. T testleri, veri setlerinin normal bir dağılım izlediği ve bilinmeyen varyanslara sahip olduğu durumlarda (bir yazı turanın 100 kez atılmasıyla kaydedilen veri seti gibi) kullanılır.\n",
    "\n",
    "T testi, istatistikte hipotez testi için kullanılan bir testtir ve istatistiksel anlamlılığı belirlemek için t istatistiğini, t dağılımı değerlerini ve serbestlik derecelerini kullanır.\n",
    "\n",
    "İlaç etkinliğini değerlendiren biyomedikal araştırmalardan demografik farklılıkları analiz eden sosyal bilimlere kadar t-testi davranış, performans veya sonuçlardaki farklılıkların anlaşılmasına yardımcı olur. Uygulamaları eğitim, ekonomi, kalite kontrol ve çevre bilimi gibi çeşitli alanları kapsamakta ve araştırmacıların kendi çalışmalarında gruplar arasındaki farklılıkların önemini güvenle değerlendirmelerine olanak sağlamaktadır.\n",
    "\n",
    "T-testini hesaplamak için t-değerine sahip olmamız gerekiyor. Temelde t değeri şu şekilde hesaplanır: Ortalamaların farkı/standard deviation error\n",
    "\n",
    "3 çeşit t-testi vardır: <br>\n",
    "<b>One-Sample T-Test</b> <br>\n",
    "Bir örneğin ortalamasını bilinen bir referans ortalamayla karşılaştırmak istediğimizde tek örnek t testini kullanırız. (örneğin, belirli bir kasabanın ortalama yaşam süresinin ülke ortalamasından farklı olup olmadığını belirlemek için veya bir çikolata üreticisi, çikolatalarının ortalama 50 gram ağırlığında olduğunu iddia ediyor. Bunu doğrulamak için 30 barlık bir numune alınır ve tartılır.). One-sample t testinde null hipotezi ve alternatif hipotez şunlardır:<br>\n",
    "\n",
    "Null hipotez: Örnek ortalama, verilen referans değerine eşittir (yani fark yoktur).<br>\n",
    "Alternatif hipotez: Örneklem ortalaması verilen referans değerine eşit değildir (bu nedenle bir fark vardır).<br>\n",
    "\n",
    "t-değeri = ( x̄ - μ ) / (S/√n)\n",
    "           \n",
    "\n",
    "<b>Paired-Samples T-Test</b> <br>\n",
    "Tek bir popülasyonu bazı deneysel müdahalelerden önce ve sonra veya iki farklı zaman noktasında (örneğin, materyalin öğretilmesinden önce ve sonra bir testteki öğrenci performansının ölçülmesi) karşılaştırmak için kullanılır. Paired samples t testinde hipotezler şunlardır: <br>\n",
    "\n",
    "Null hipotez: Çiftler arasındaki farkların ortalaması sıfırdır.<br>\n",
    "Alternatif hipotez: Çiftler arasındaki farkların ortalaması sıfır değildir.<br>\n",
    "\n",
    "t-değeri = (x̄ - 0) / (S/√n)\n",
    "\n",
    "\n",
    "<b>Independent-Samples T-Test </b><br> \n",
    "İki bağımsız grubun veya örneğin ortalamalarını karşılaştırmak istediğimizde bağımsız örnekler için t-testini kullanırız. Bu ortalamalar arasında anlamlı bir fark olup olmadığını bilmek istiyoruz. Örneğin A ve B ağrı kesicilerinin ne kadar efektif olduğunu bir nüfusu rastgele ikiye bölüp bu ilaçları iki ayrı gruba verip test edebiliriz. Bu t testinde hipotezler şunlardır: <br>\n",
    "\n",
    "Null hipotez: İki gruptaki ortalamalar eşittir (yani iki grup arasında fark yoktur).<br>\n",
    "Alternatif hipotez: İki gruptaki ortalama değerler eşit değildir (yani iki grup arasında fark vardır).<br>\n",
    "\n",
    "t-değeri = (x̄1 - x̄2) / √(S1²/n1 + S2²/n2 )<br>\n",
    "\n",
    "T testini yaparken null hipotezini reddedip reddetmeyeceğimizi anlamanın iki yolu vardır. Ya t değerleri tablosundan kritik t değerini buluruz ve bulduğumuz t değeri ile karşılaştırırz veya t değerinin yardımı ile p değerini bulur significance level ile karşılaştırırız.\n",
    "\n"
   ]
  },
  {
   "cell_type": "code",
   "execution_count": 1,
   "metadata": {},
   "outputs": [
    {
     "name": "stdout",
     "output_type": "stream",
     "text": [
      "T-Statistic: 7.169599853223049\n",
      "P-Value: 5.253360962283569e-05\n",
      "Null hipotezi reddedildi: Matematik sınavı not ortalaması popülasyon ortalamasından anlamlı derecede farklı.\n"
     ]
    }
   ],
   "source": [
    "#One sample t test\n",
    "from scipy import stats\n",
    "\n",
    "# Öğrenci grubunun matematik sınavı notları (örnek veri)\n",
    "math_scores = [75, 80, 72, 78, 85, 77, 82, 79, 81, 76]\n",
    "\n",
    "# Popülasyon ortalaması (karşılaştırma için)\n",
    "population_mean = 70 \n",
    "\n",
    "# Tek örneklem t-testi yapma\n",
    "t_statistic, p_value = stats.ttest_1samp(math_scores, population_mean)\n",
    "\n",
    "# Sonuçları yazdırma\n",
    "print(\"T-Statistic:\", t_statistic)\n",
    "print(\"P-Value:\", p_value)\n",
    "\n",
    "# Sonuçları yorumlama\n",
    "alpha = 0.05  # Anlamlılık düzeyi\n",
    "if p_value < alpha:\n",
    "    print(\"Null hipotezi reddedildi: Matematik sınavı not ortalaması popülasyon ortalamasından anlamlı derecede farklı.\")\n",
    "else:\n",
    "    print(\"Null hipotezi reddedilemedi: Matematik sınavı not ortalaması popülasyon ortalamasından anlamlı bir farklılık göstermiyor.\")\n"
   ]
  },
  {
   "cell_type": "markdown",
   "metadata": {},
   "source": [
    "\n",
    "ConvNet olarak da bilinen Evrişimsel Sinir Ağı (CNN), esas olarak görüntü sınıflandırma, algılama ve segmentasyon dahil olmak üzere nesne tanımayı gerektiren görevler için tasarlanmış özel bir derin öğrenme algoritması türüdür. CNN'ler otonom araçlar, güvenlik kamera sistemleri ve diğerleri gibi çeşitli pratik senaryolarda kullanılır.<br>\n",
    "Evrişimli Sinir Ağı, giriş katmanı, Evrişim katmanı, Havuz katmanı ve tamamen bağlı katmanlar gibi birden fazla katmandan oluşur.\n"
   ]
  },
  {
   "cell_type": "code",
   "execution_count": null,
   "metadata": {},
   "outputs": [],
   "source": []
  }
 ],
 "metadata": {
  "kernelspec": {
   "display_name": "py9",
   "language": "python",
   "name": "python3"
  },
  "language_info": {
   "codemirror_mode": {
    "name": "ipython",
    "version": 3
   },
   "file_extension": ".py",
   "mimetype": "text/x-python",
   "name": "python",
   "nbconvert_exporter": "python",
   "pygments_lexer": "ipython3",
   "version": "3.9.18"
  }
 },
 "nbformat": 4,
 "nbformat_minor": 2
}
